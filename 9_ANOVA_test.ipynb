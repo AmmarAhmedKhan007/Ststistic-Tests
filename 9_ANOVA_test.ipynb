{
 "cells": [
  {
   "cell_type": "markdown",
   "metadata": {},
   "source": [
    "## For two or more values"
   ]
  },
  {
   "cell_type": "code",
   "execution_count": 1,
   "metadata": {},
   "outputs": [
    {
     "name": "stdout",
     "output_type": "stream",
     "text": [
      "stat = 0.20019805248390832\n",
      "P value = 0.8238216374812454\n",
      "Probality the same distribution \n"
     ]
    }
   ],
   "source": [
    "from scipy.stats import f_oneway\n",
    "data1 = [2, 44, 5,]\n",
    "data2 = [3, 33, 4]\n",
    "data3 = [6, 66, 7]\n",
    "stat, p= f_oneway (data1 , data2, data3)\n",
    "print (\"stat =\", stat)\n",
    "print (\"P value =\", p)\n",
    "if p > 0.05:\n",
    "    print(\"Probality the same distribution \")\n",
    "else:\n",
    "    print(\"Probality different distribution\")"
   ]
  }
 ],
 "metadata": {
  "kernelspec": {
   "display_name": "Python 3.9.7 ('base')",
   "language": "python",
   "name": "python3"
  },
  "language_info": {
   "codemirror_mode": {
    "name": "ipython",
    "version": 3
   },
   "file_extension": ".py",
   "mimetype": "text/x-python",
   "name": "python",
   "nbconvert_exporter": "python",
   "pygments_lexer": "ipython3",
   "version": "3.9.7"
  },
  "orig_nbformat": 4,
  "vscode": {
   "interpreter": {
    "hash": "e75c42ba0787fa027b1ec9cbc9616f1f10950c7e6a9d1665f6f9c231b23f955d"
   }
  }
 },
 "nbformat": 4,
 "nbformat_minor": 2
}
