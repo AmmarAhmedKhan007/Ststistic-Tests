{
 "cells": [
  {
   "cell_type": "markdown",
   "metadata": {},
   "source": [
    "# 1. Student's T-test"
   ]
  },
  {
   "cell_type": "code",
   "execution_count": 1,
   "metadata": {},
   "outputs": [
    {
     "name": "stdout",
     "output_type": "stream",
     "text": [
      "stat = 0.2192122512998223\n",
      "P value = 0.8372162550433863\n",
      "Probality the same distribution \n"
     ]
    }
   ],
   "source": [
    "from scipy.stats import ttest_ind\n",
    "data1 = [2, 44, 5,]\n",
    "data2 = [3, 33, 4]\n",
    "stat, p= ttest_ind(data1 , data2)\n",
    "print (\"stat =\", stat)\n",
    "print (\"P value =\", p)\n",
    "if p > 0.05:\n",
    "    print(\"Probality the same distribution \")\n",
    "else:\n",
    "    print(\"Probality different distribution\")"
   ]
  },
  {
   "cell_type": "markdown",
   "metadata": {},
   "source": [
    "# 2. Paired Student's T-test"
   ]
  },
  {
   "cell_type": "markdown",
   "metadata": {},
   "source": [
    "## for same length"
   ]
  },
  {
   "cell_type": "code",
   "execution_count": 2,
   "metadata": {},
   "outputs": [
    {
     "name": "stdout",
     "output_type": "stream",
     "text": [
      "stat = 0.9878291611472619\n",
      "P value = 0.4273628730751111\n",
      "Probality the same distribution \n"
     ]
    }
   ],
   "source": [
    "from scipy.stats import ttest_rel\n",
    "data1 = [2, 44, 5,]\n",
    "data2 = [3, 33, 4]\n",
    "stat, p= ttest_rel(data1 , data2)\n",
    "print (\"stat =\", stat)\n",
    "print (\"P value =\", p)\n",
    "if p > 0.05:\n",
    "    print(\"Probality the same distribution \")\n",
    "else:\n",
    "    print(\"Probality different distribution\")"
   ]
  },
  {
   "cell_type": "markdown",
   "metadata": {},
   "source": [
    "## Khashti Dataset"
   ]
  },
  {
   "cell_type": "code",
   "execution_count": 3,
   "metadata": {},
   "outputs": [],
   "source": [
    "import pandas as pd\n",
    "import seaborn as sns\n",
    "import matplotlib.pyplot as plt\n",
    "import numpy as np"
   ]
  },
  {
   "cell_type": "code",
   "execution_count": 4,
   "metadata": {},
   "outputs": [],
   "source": [
    "ks = sns.load_dataset(\"titanic\")"
   ]
  },
  {
   "cell_type": "code",
   "execution_count": 5,
   "metadata": {},
   "outputs": [
    {
     "name": "stdout",
     "output_type": "stream",
     "text": [
      "stat = -7.480848976059225\n",
      "P value = 5.64656168773021e-13\n",
      "Probality different distribution\n"
     ]
    }
   ],
   "source": [
    "from scipy.stats import ttest_ind\n",
    "ks = ks.dropna()\n",
    "data1 = (ks['age'])\n",
    "data2 = (ks['fare'])\n",
    "stat, p= ttest_ind(data1 , data2)\n",
    "print (\"stat =\", stat)\n",
    "print (\"P value =\", p)\n",
    "if p > 0.05:\n",
    "    print(\"Probality the same distribution \")\n",
    "else:\n",
    "    print(\"Probality different distribution\")"
   ]
  },
  {
   "cell_type": "markdown",
   "metadata": {},
   "source": [
    "# 3_Unpared t_test:"
   ]
  },
  {
   "cell_type": "code",
   "execution_count": 6,
   "metadata": {},
   "outputs": [],
   "source": [
    "import pandas as pd\n",
    "import seaborn as sns\n",
    "import matplotlib.pyplot as plt\n",
    "import numpy as np"
   ]
  },
  {
   "cell_type": "code",
   "execution_count": 7,
   "metadata": {},
   "outputs": [],
   "source": [
    "df = sns.load_dataset(\"titanic\")"
   ]
  },
  {
   "cell_type": "code",
   "execution_count": 8,
   "metadata": {},
   "outputs": [
    {
     "name": "stdout",
     "output_type": "stream",
     "text": [
      "stat = 2.4896336772638175\n",
      "P value = 0.01369462174359267\n",
      "there is a significant difference\n"
     ]
    }
   ],
   "source": [
    "from scipy.stats import ttest_ind\n",
    "df = df.dropna()\n",
    "\n",
    "df_male = df[df['sex']==\"male\"]\n",
    "df_female = df[df['sex']==\"female\"]\n",
    "\n",
    "ttest_ind(df_male['age'], df_female['age'])\n",
    "stat, p= ttest_ind(df_male['age'], df_female['age'])\n",
    "\n",
    "print (\"stat =\", stat)\n",
    "print (\"P value =\", p)\n",
    "if p > 0.05:\n",
    "    print(\"there is no significant difference \")\n",
    "else:\n",
    "    print(\"there is a significant difference\")"
   ]
  },
  {
   "cell_type": "markdown",
   "metadata": {},
   "source": [
    "# One Sample t-test"
   ]
  },
  {
   "cell_type": "code",
   "execution_count": 9,
   "metadata": {},
   "outputs": [
    {
     "name": "stdout",
     "output_type": "stream",
     "text": [
      "stat = 4.924204412653361\n",
      "P value = 3.662423797158342e-06\n",
      "there is a significant difference\n"
     ]
    }
   ],
   "source": [
    "from scipy.stats import ttest_1samp\n",
    "df = df.dropna()\n",
    "\n",
    "df_male = df[df['sex']==\"male\"]\n",
    "df_female = df[df['sex']==\"female\"]\n",
    "\n",
    "ttest_1samp(df_male['age'], 30)\n",
    "stat, p= ttest_1samp(df_male['age'], 30)\n",
    "\n",
    "print (\"stat =\", stat)\n",
    "print (\"P value =\", p)\n",
    "if p > 0.05:\n",
    "    print(\"there is no significant difference \")\n",
    "else:\n",
    "    print(\"there is a significant difference\")"
   ]
  }
 ],
 "metadata": {
  "kernelspec": {
   "display_name": "Python 3.9.6 64-bit",
   "language": "python",
   "name": "python3"
  },
  "language_info": {
   "codemirror_mode": {
    "name": "ipython",
    "version": 3
   },
   "file_extension": ".py",
   "mimetype": "text/x-python",
   "name": "python",
   "nbconvert_exporter": "python",
   "pygments_lexer": "ipython3",
   "version": "3.9.6"
  },
  "orig_nbformat": 4,
  "vscode": {
   "interpreter": {
    "hash": "966b0e9677715582968ff08d39d121a0f8b2fdf88b00be727b9743268e0f48b0"
   }
  }
 },
 "nbformat": 4,
 "nbformat_minor": 2
}
