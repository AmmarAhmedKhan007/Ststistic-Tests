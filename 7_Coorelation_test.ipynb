{
 "cells": [
  {
   "cell_type": "markdown",
   "metadata": {},
   "source": [
    "# 1. Pearson's Corelation Coefficient"
   ]
  },
  {
   "cell_type": "code",
   "execution_count": 3,
   "metadata": {},
   "outputs": [
    {
     "name": "stdout",
     "output_type": "stream",
     "text": [
      "stat = 0.9993975335987083\n",
      "P value = 0.02209954555587343\n",
      "Correlation Exists\n"
     ]
    }
   ],
   "source": [
    "from scipy.stats import pearsonr\n",
    "data1 = [2, 44, 5,]\n",
    "data2 = [3, 33, 4]\n",
    "stat, p=pearsonr(data1 , data2)\n",
    "print (\"stat =\", stat)\n",
    "print (\"P value =\", p)\n",
    "if p > 0.05:\n",
    "    print(\"No Correlation\")\n",
    "else:\n",
    "    print(\"Correlation Exists\")"
   ]
  },
  {
   "cell_type": "markdown",
   "metadata": {},
   "source": [
    "## Khashti Dataset"
   ]
  },
  {
   "cell_type": "code",
   "execution_count": 4,
   "metadata": {},
   "outputs": [],
   "source": [
    "import pandas as pd\n",
    "import seaborn as sns\n",
    "import matplotlib.pyplot as plt\n",
    "import numpy as np"
   ]
  },
  {
   "cell_type": "code",
   "execution_count": 5,
   "metadata": {},
   "outputs": [],
   "source": [
    "ks = sns.load_dataset(\"titanic\")"
   ]
  },
  {
   "cell_type": "code",
   "execution_count": 8,
   "metadata": {},
   "outputs": [
    {
     "name": "stdout",
     "output_type": "stream",
     "text": [
      "stat = -0.09073036394094938\n",
      "P value = 0.223185916258614\n",
      "No Correlation\n"
     ]
    }
   ],
   "source": [
    "from scipy.stats import pearsonr\n",
    "# data1 = [2, 44, 5,]\n",
    "# data2 = [3, 33, 4]\n",
    "ks = ks.dropna()\n",
    "stat, p=pearsonr(ks['age'] , ks['fare'])\n",
    "print (\"stat =\", stat)\n",
    "print (\"P value =\", p)\n",
    "if p > 0.05:\n",
    "    print(\"No Correlation\")\n",
    "else:\n",
    "    print(\"Correlation Exists\")"
   ]
  },
  {
   "cell_type": "markdown",
   "metadata": {},
   "source": [
    "# 2. CHI-Squared Test"
   ]
  },
  {
   "cell_type": "code",
   "execution_count": 9,
   "metadata": {},
   "outputs": [
    {
     "name": "stdout",
     "output_type": "stream",
     "text": [
      "stat = 0.055384615384615435\n",
      "P value = 0.972687609256741\n",
      "No Correlation\n"
     ]
    }
   ],
   "source": [
    "from scipy.stats import chi2_contingency\n",
    "table = [[2, 4, 6],[3, 5, 7]]\n",
    "stat, p, dof, expected= chi2_contingency(table)\n",
    "print (\"stat =\", stat)\n",
    "print (\"P value =\", p)\n",
    "if p > 0.05:\n",
    "    print(\"No Correlation\")\n",
    "else:\n",
    "    print(\"Correlation Exists\")"
   ]
  }
 ],
 "metadata": {
  "kernelspec": {
   "display_name": "Python 3.9.7 ('base')",
   "language": "python",
   "name": "python3"
  },
  "language_info": {
   "codemirror_mode": {
    "name": "ipython",
    "version": 3
   },
   "file_extension": ".py",
   "mimetype": "text/x-python",
   "name": "python",
   "nbconvert_exporter": "python",
   "pygments_lexer": "ipython3",
   "version": "3.9.7"
  },
  "orig_nbformat": 4,
  "vscode": {
   "interpreter": {
    "hash": "e75c42ba0787fa027b1ec9cbc9616f1f10950c7e6a9d1665f6f9c231b23f955d"
   }
  }
 },
 "nbformat": 4,
 "nbformat_minor": 2
}
